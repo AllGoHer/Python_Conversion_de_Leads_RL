{
 "cells": [
  {
   "cell_type": "code",
   "execution_count": 1,
   "id": "372c0021-0f2b-42f3-88b1-0bb20fcea0e8",
   "metadata": {},
   "outputs": [],
   "source": [
    "#preparar un conjunto de datos para desarrollar un modelo de Regresión Logística que nos permita optimizar la conversión de prospectos en \n",
    "#estudiantes activos en la Escuela  Online de Negocios(EON)."
   ]
  },
  {
   "cell_type": "code",
   "execution_count": 2,
   "id": "d3b9af4f-146e-4ef1-810c-ba85913e2a54",
   "metadata": {},
   "outputs": [],
   "source": [
    "#Importar Bibliotecas\n",
    "\n",
    "import numpy as np\n",
    "import pandas as pd\n",
    "import matplotlib.pyplot as plt\n",
    "import seaborn as sns"
   ]
  },
  {
   "cell_type": "code",
   "execution_count": 3,
   "id": "73f5d2ac-ad0a-4bf1-84bb-d4ac4bd70c9c",
   "metadata": {},
   "outputs": [],
   "source": [
    "# Importar datos\n",
    "\n",
    "df = pd.read_csv('C:\\\\Users\\\\ALLAN\\\\Desktop\\\\Business Analitics con Python y ChatGPT\\\\EON.csv')"
   ]
  },
  {
   "cell_type": "code",
   "execution_count": 4,
   "id": "0dfa47da-4ce4-42bc-bc9d-d14cbc9b948c",
   "metadata": {},
   "outputs": [
    {
     "data": {
      "text/html": [
       "<div>\n",
       "<style scoped>\n",
       "    .dataframe tbody tr th:only-of-type {\n",
       "        vertical-align: middle;\n",
       "    }\n",
       "\n",
       "    .dataframe tbody tr th {\n",
       "        vertical-align: top;\n",
       "    }\n",
       "\n",
       "    .dataframe thead th {\n",
       "        text-align: right;\n",
       "    }\n",
       "</style>\n",
       "<table border=\"1\" class=\"dataframe\">\n",
       "  <thead>\n",
       "    <tr style=\"text-align: right;\">\n",
       "      <th></th>\n",
       "      <th>Prospect ID</th>\n",
       "      <th>Lead Number</th>\n",
       "      <th>Lead Origin</th>\n",
       "      <th>Lead Source</th>\n",
       "      <th>Do Not Email</th>\n",
       "      <th>Do Not Call</th>\n",
       "      <th>Converted</th>\n",
       "      <th>TotalVisits</th>\n",
       "      <th>Total Time Spent on Website</th>\n",
       "      <th>Page Views Per Visit</th>\n",
       "      <th>...</th>\n",
       "      <th>Get updates on DM Content</th>\n",
       "      <th>Lead Profile</th>\n",
       "      <th>City</th>\n",
       "      <th>Asymmetrique Activity Index</th>\n",
       "      <th>Asymmetrique Profile Index</th>\n",
       "      <th>Asymmetrique Activity Score</th>\n",
       "      <th>Asymmetrique Profile Score</th>\n",
       "      <th>I agree to pay the amount through cheque</th>\n",
       "      <th>A free copy of Mastering The Interview</th>\n",
       "      <th>Last Notable Activity</th>\n",
       "    </tr>\n",
       "  </thead>\n",
       "  <tbody>\n",
       "    <tr>\n",
       "      <th>0</th>\n",
       "      <td>7927b2df-8bba-4d29-b9a2-b6e0beafe620</td>\n",
       "      <td>660737</td>\n",
       "      <td>API</td>\n",
       "      <td>Olark Chat</td>\n",
       "      <td>No</td>\n",
       "      <td>No</td>\n",
       "      <td>0</td>\n",
       "      <td>0.0</td>\n",
       "      <td>0</td>\n",
       "      <td>0.0</td>\n",
       "      <td>...</td>\n",
       "      <td>No</td>\n",
       "      <td>Select</td>\n",
       "      <td>Select</td>\n",
       "      <td>02.Medium</td>\n",
       "      <td>02.Medium</td>\n",
       "      <td>15.0</td>\n",
       "      <td>15.0</td>\n",
       "      <td>No</td>\n",
       "      <td>No</td>\n",
       "      <td>Modified</td>\n",
       "    </tr>\n",
       "    <tr>\n",
       "      <th>1</th>\n",
       "      <td>2a272436-5132-4136-86fa-dcc88c88f482</td>\n",
       "      <td>660728</td>\n",
       "      <td>API</td>\n",
       "      <td>Organic Search</td>\n",
       "      <td>No</td>\n",
       "      <td>No</td>\n",
       "      <td>0</td>\n",
       "      <td>5.0</td>\n",
       "      <td>674</td>\n",
       "      <td>2.5</td>\n",
       "      <td>...</td>\n",
       "      <td>No</td>\n",
       "      <td>Select</td>\n",
       "      <td>Select</td>\n",
       "      <td>02.Medium</td>\n",
       "      <td>02.Medium</td>\n",
       "      <td>15.0</td>\n",
       "      <td>15.0</td>\n",
       "      <td>No</td>\n",
       "      <td>No</td>\n",
       "      <td>Email Opened</td>\n",
       "    </tr>\n",
       "    <tr>\n",
       "      <th>2</th>\n",
       "      <td>8cc8c611-a219-4f35-ad23-fdfd2656bd8a</td>\n",
       "      <td>660727</td>\n",
       "      <td>Landing Page Submission</td>\n",
       "      <td>Direct Traffic</td>\n",
       "      <td>No</td>\n",
       "      <td>No</td>\n",
       "      <td>1</td>\n",
       "      <td>2.0</td>\n",
       "      <td>1532</td>\n",
       "      <td>2.0</td>\n",
       "      <td>...</td>\n",
       "      <td>No</td>\n",
       "      <td>Potential Lead</td>\n",
       "      <td>Mumbai</td>\n",
       "      <td>02.Medium</td>\n",
       "      <td>01.High</td>\n",
       "      <td>14.0</td>\n",
       "      <td>20.0</td>\n",
       "      <td>No</td>\n",
       "      <td>Yes</td>\n",
       "      <td>Email Opened</td>\n",
       "    </tr>\n",
       "    <tr>\n",
       "      <th>3</th>\n",
       "      <td>0cc2df48-7cf4-4e39-9de9-19797f9b38cc</td>\n",
       "      <td>660719</td>\n",
       "      <td>Landing Page Submission</td>\n",
       "      <td>Direct Traffic</td>\n",
       "      <td>No</td>\n",
       "      <td>No</td>\n",
       "      <td>0</td>\n",
       "      <td>1.0</td>\n",
       "      <td>305</td>\n",
       "      <td>1.0</td>\n",
       "      <td>...</td>\n",
       "      <td>No</td>\n",
       "      <td>Select</td>\n",
       "      <td>Mumbai</td>\n",
       "      <td>02.Medium</td>\n",
       "      <td>01.High</td>\n",
       "      <td>13.0</td>\n",
       "      <td>17.0</td>\n",
       "      <td>No</td>\n",
       "      <td>No</td>\n",
       "      <td>Modified</td>\n",
       "    </tr>\n",
       "    <tr>\n",
       "      <th>4</th>\n",
       "      <td>3256f628-e534-4826-9d63-4a8b88782852</td>\n",
       "      <td>660681</td>\n",
       "      <td>Landing Page Submission</td>\n",
       "      <td>Google</td>\n",
       "      <td>No</td>\n",
       "      <td>No</td>\n",
       "      <td>1</td>\n",
       "      <td>2.0</td>\n",
       "      <td>1428</td>\n",
       "      <td>1.0</td>\n",
       "      <td>...</td>\n",
       "      <td>No</td>\n",
       "      <td>Select</td>\n",
       "      <td>Mumbai</td>\n",
       "      <td>02.Medium</td>\n",
       "      <td>01.High</td>\n",
       "      <td>15.0</td>\n",
       "      <td>18.0</td>\n",
       "      <td>No</td>\n",
       "      <td>No</td>\n",
       "      <td>Modified</td>\n",
       "    </tr>\n",
       "  </tbody>\n",
       "</table>\n",
       "<p>5 rows × 37 columns</p>\n",
       "</div>"
      ],
      "text/plain": [
       "                            Prospect ID  Lead Number              Lead Origin  \\\n",
       "0  7927b2df-8bba-4d29-b9a2-b6e0beafe620       660737                      API   \n",
       "1  2a272436-5132-4136-86fa-dcc88c88f482       660728                      API   \n",
       "2  8cc8c611-a219-4f35-ad23-fdfd2656bd8a       660727  Landing Page Submission   \n",
       "3  0cc2df48-7cf4-4e39-9de9-19797f9b38cc       660719  Landing Page Submission   \n",
       "4  3256f628-e534-4826-9d63-4a8b88782852       660681  Landing Page Submission   \n",
       "\n",
       "      Lead Source Do Not Email Do Not Call  Converted  TotalVisits  \\\n",
       "0      Olark Chat           No          No          0          0.0   \n",
       "1  Organic Search           No          No          0          5.0   \n",
       "2  Direct Traffic           No          No          1          2.0   \n",
       "3  Direct Traffic           No          No          0          1.0   \n",
       "4          Google           No          No          1          2.0   \n",
       "\n",
       "   Total Time Spent on Website  Page Views Per Visit  ...  \\\n",
       "0                            0                   0.0  ...   \n",
       "1                          674                   2.5  ...   \n",
       "2                         1532                   2.0  ...   \n",
       "3                          305                   1.0  ...   \n",
       "4                         1428                   1.0  ...   \n",
       "\n",
       "  Get updates on DM Content    Lead Profile    City  \\\n",
       "0                        No          Select  Select   \n",
       "1                        No          Select  Select   \n",
       "2                        No  Potential Lead  Mumbai   \n",
       "3                        No          Select  Mumbai   \n",
       "4                        No          Select  Mumbai   \n",
       "\n",
       "  Asymmetrique Activity Index Asymmetrique Profile Index  \\\n",
       "0                   02.Medium                  02.Medium   \n",
       "1                   02.Medium                  02.Medium   \n",
       "2                   02.Medium                    01.High   \n",
       "3                   02.Medium                    01.High   \n",
       "4                   02.Medium                    01.High   \n",
       "\n",
       "  Asymmetrique Activity Score Asymmetrique Profile Score  \\\n",
       "0                        15.0                       15.0   \n",
       "1                        15.0                       15.0   \n",
       "2                        14.0                       20.0   \n",
       "3                        13.0                       17.0   \n",
       "4                        15.0                       18.0   \n",
       "\n",
       "  I agree to pay the amount through cheque  \\\n",
       "0                                       No   \n",
       "1                                       No   \n",
       "2                                       No   \n",
       "3                                       No   \n",
       "4                                       No   \n",
       "\n",
       "  A free copy of Mastering The Interview Last Notable Activity  \n",
       "0                                     No              Modified  \n",
       "1                                     No          Email Opened  \n",
       "2                                    Yes          Email Opened  \n",
       "3                                     No              Modified  \n",
       "4                                     No              Modified  \n",
       "\n",
       "[5 rows x 37 columns]"
      ]
     },
     "execution_count": 4,
     "metadata": {},
     "output_type": "execute_result"
    }
   ],
   "source": [
    "df.head()"
   ]
  },
  {
   "cell_type": "code",
   "execution_count": 5,
   "id": "f1122347-0422-472c-8a63-5022824f5c13",
   "metadata": {},
   "outputs": [],
   "source": [
    "# Tenemos dos variables que podrían funcionar como 'ID': Prospect ID y Lead Number. Botemos la más compleja Prospect ID\n",
    "df.drop(columns= 'Prospect ID', axis = 1, inplace = True)"
   ]
  },
  {
   "cell_type": "code",
   "execution_count": 6,
   "id": "2891e465-88bb-4cf5-8eb3-c1d0de112de4",
   "metadata": {},
   "outputs": [],
   "source": [
    "df.set_index('Lead Number', inplace = True)"
   ]
  },
  {
   "cell_type": "code",
   "execution_count": 7,
   "id": "edbb1a48-aaf3-440e-9c5b-94870cefc473",
   "metadata": {},
   "outputs": [
    {
     "data": {
      "text/html": [
       "<div>\n",
       "<style scoped>\n",
       "    .dataframe tbody tr th:only-of-type {\n",
       "        vertical-align: middle;\n",
       "    }\n",
       "\n",
       "    .dataframe tbody tr th {\n",
       "        vertical-align: top;\n",
       "    }\n",
       "\n",
       "    .dataframe thead th {\n",
       "        text-align: right;\n",
       "    }\n",
       "</style>\n",
       "<table border=\"1\" class=\"dataframe\">\n",
       "  <thead>\n",
       "    <tr style=\"text-align: right;\">\n",
       "      <th></th>\n",
       "      <th>Lead Origin</th>\n",
       "      <th>Lead Source</th>\n",
       "      <th>Do Not Email</th>\n",
       "      <th>Do Not Call</th>\n",
       "      <th>Converted</th>\n",
       "      <th>TotalVisits</th>\n",
       "      <th>Total Time Spent on Website</th>\n",
       "      <th>Page Views Per Visit</th>\n",
       "      <th>Last Activity</th>\n",
       "      <th>Country</th>\n",
       "      <th>...</th>\n",
       "      <th>Get updates on DM Content</th>\n",
       "      <th>Lead Profile</th>\n",
       "      <th>City</th>\n",
       "      <th>Asymmetrique Activity Index</th>\n",
       "      <th>Asymmetrique Profile Index</th>\n",
       "      <th>Asymmetrique Activity Score</th>\n",
       "      <th>Asymmetrique Profile Score</th>\n",
       "      <th>I agree to pay the amount through cheque</th>\n",
       "      <th>A free copy of Mastering The Interview</th>\n",
       "      <th>Last Notable Activity</th>\n",
       "    </tr>\n",
       "    <tr>\n",
       "      <th>Lead Number</th>\n",
       "      <th></th>\n",
       "      <th></th>\n",
       "      <th></th>\n",
       "      <th></th>\n",
       "      <th></th>\n",
       "      <th></th>\n",
       "      <th></th>\n",
       "      <th></th>\n",
       "      <th></th>\n",
       "      <th></th>\n",
       "      <th></th>\n",
       "      <th></th>\n",
       "      <th></th>\n",
       "      <th></th>\n",
       "      <th></th>\n",
       "      <th></th>\n",
       "      <th></th>\n",
       "      <th></th>\n",
       "      <th></th>\n",
       "      <th></th>\n",
       "      <th></th>\n",
       "    </tr>\n",
       "  </thead>\n",
       "  <tbody>\n",
       "    <tr>\n",
       "      <th>660737</th>\n",
       "      <td>API</td>\n",
       "      <td>Olark Chat</td>\n",
       "      <td>No</td>\n",
       "      <td>No</td>\n",
       "      <td>0</td>\n",
       "      <td>0.0</td>\n",
       "      <td>0</td>\n",
       "      <td>0.0</td>\n",
       "      <td>Page Visited on Website</td>\n",
       "      <td>NaN</td>\n",
       "      <td>...</td>\n",
       "      <td>No</td>\n",
       "      <td>Select</td>\n",
       "      <td>Select</td>\n",
       "      <td>02.Medium</td>\n",
       "      <td>02.Medium</td>\n",
       "      <td>15.0</td>\n",
       "      <td>15.0</td>\n",
       "      <td>No</td>\n",
       "      <td>No</td>\n",
       "      <td>Modified</td>\n",
       "    </tr>\n",
       "    <tr>\n",
       "      <th>660728</th>\n",
       "      <td>API</td>\n",
       "      <td>Organic Search</td>\n",
       "      <td>No</td>\n",
       "      <td>No</td>\n",
       "      <td>0</td>\n",
       "      <td>5.0</td>\n",
       "      <td>674</td>\n",
       "      <td>2.5</td>\n",
       "      <td>Email Opened</td>\n",
       "      <td>India</td>\n",
       "      <td>...</td>\n",
       "      <td>No</td>\n",
       "      <td>Select</td>\n",
       "      <td>Select</td>\n",
       "      <td>02.Medium</td>\n",
       "      <td>02.Medium</td>\n",
       "      <td>15.0</td>\n",
       "      <td>15.0</td>\n",
       "      <td>No</td>\n",
       "      <td>No</td>\n",
       "      <td>Email Opened</td>\n",
       "    </tr>\n",
       "    <tr>\n",
       "      <th>660727</th>\n",
       "      <td>Landing Page Submission</td>\n",
       "      <td>Direct Traffic</td>\n",
       "      <td>No</td>\n",
       "      <td>No</td>\n",
       "      <td>1</td>\n",
       "      <td>2.0</td>\n",
       "      <td>1532</td>\n",
       "      <td>2.0</td>\n",
       "      <td>Email Opened</td>\n",
       "      <td>India</td>\n",
       "      <td>...</td>\n",
       "      <td>No</td>\n",
       "      <td>Potential Lead</td>\n",
       "      <td>Mumbai</td>\n",
       "      <td>02.Medium</td>\n",
       "      <td>01.High</td>\n",
       "      <td>14.0</td>\n",
       "      <td>20.0</td>\n",
       "      <td>No</td>\n",
       "      <td>Yes</td>\n",
       "      <td>Email Opened</td>\n",
       "    </tr>\n",
       "    <tr>\n",
       "      <th>660719</th>\n",
       "      <td>Landing Page Submission</td>\n",
       "      <td>Direct Traffic</td>\n",
       "      <td>No</td>\n",
       "      <td>No</td>\n",
       "      <td>0</td>\n",
       "      <td>1.0</td>\n",
       "      <td>305</td>\n",
       "      <td>1.0</td>\n",
       "      <td>Unreachable</td>\n",
       "      <td>India</td>\n",
       "      <td>...</td>\n",
       "      <td>No</td>\n",
       "      <td>Select</td>\n",
       "      <td>Mumbai</td>\n",
       "      <td>02.Medium</td>\n",
       "      <td>01.High</td>\n",
       "      <td>13.0</td>\n",
       "      <td>17.0</td>\n",
       "      <td>No</td>\n",
       "      <td>No</td>\n",
       "      <td>Modified</td>\n",
       "    </tr>\n",
       "    <tr>\n",
       "      <th>660681</th>\n",
       "      <td>Landing Page Submission</td>\n",
       "      <td>Google</td>\n",
       "      <td>No</td>\n",
       "      <td>No</td>\n",
       "      <td>1</td>\n",
       "      <td>2.0</td>\n",
       "      <td>1428</td>\n",
       "      <td>1.0</td>\n",
       "      <td>Converted to Lead</td>\n",
       "      <td>India</td>\n",
       "      <td>...</td>\n",
       "      <td>No</td>\n",
       "      <td>Select</td>\n",
       "      <td>Mumbai</td>\n",
       "      <td>02.Medium</td>\n",
       "      <td>01.High</td>\n",
       "      <td>15.0</td>\n",
       "      <td>18.0</td>\n",
       "      <td>No</td>\n",
       "      <td>No</td>\n",
       "      <td>Modified</td>\n",
       "    </tr>\n",
       "  </tbody>\n",
       "</table>\n",
       "<p>5 rows × 35 columns</p>\n",
       "</div>"
      ],
      "text/plain": [
       "                         Lead Origin     Lead Source Do Not Email Do Not Call  \\\n",
       "Lead Number                                                                     \n",
       "660737                           API      Olark Chat           No          No   \n",
       "660728                           API  Organic Search           No          No   \n",
       "660727       Landing Page Submission  Direct Traffic           No          No   \n",
       "660719       Landing Page Submission  Direct Traffic           No          No   \n",
       "660681       Landing Page Submission          Google           No          No   \n",
       "\n",
       "             Converted  TotalVisits  Total Time Spent on Website  \\\n",
       "Lead Number                                                        \n",
       "660737               0          0.0                            0   \n",
       "660728               0          5.0                          674   \n",
       "660727               1          2.0                         1532   \n",
       "660719               0          1.0                          305   \n",
       "660681               1          2.0                         1428   \n",
       "\n",
       "             Page Views Per Visit            Last Activity Country  ...  \\\n",
       "Lead Number                                                         ...   \n",
       "660737                        0.0  Page Visited on Website     NaN  ...   \n",
       "660728                        2.5             Email Opened   India  ...   \n",
       "660727                        2.0             Email Opened   India  ...   \n",
       "660719                        1.0              Unreachable   India  ...   \n",
       "660681                        1.0        Converted to Lead   India  ...   \n",
       "\n",
       "            Get updates on DM Content    Lead Profile    City  \\\n",
       "Lead Number                                                     \n",
       "660737                             No          Select  Select   \n",
       "660728                             No          Select  Select   \n",
       "660727                             No  Potential Lead  Mumbai   \n",
       "660719                             No          Select  Mumbai   \n",
       "660681                             No          Select  Mumbai   \n",
       "\n",
       "            Asymmetrique Activity Index Asymmetrique Profile Index  \\\n",
       "Lead Number                                                          \n",
       "660737                        02.Medium                  02.Medium   \n",
       "660728                        02.Medium                  02.Medium   \n",
       "660727                        02.Medium                    01.High   \n",
       "660719                        02.Medium                    01.High   \n",
       "660681                        02.Medium                    01.High   \n",
       "\n",
       "            Asymmetrique Activity Score Asymmetrique Profile Score  \\\n",
       "Lead Number                                                          \n",
       "660737                             15.0                       15.0   \n",
       "660728                             15.0                       15.0   \n",
       "660727                             14.0                       20.0   \n",
       "660719                             13.0                       17.0   \n",
       "660681                             15.0                       18.0   \n",
       "\n",
       "            I agree to pay the amount through cheque  \\\n",
       "Lead Number                                            \n",
       "660737                                            No   \n",
       "660728                                            No   \n",
       "660727                                            No   \n",
       "660719                                            No   \n",
       "660681                                            No   \n",
       "\n",
       "            A free copy of Mastering The Interview Last Notable Activity  \n",
       "Lead Number                                                               \n",
       "660737                                          No              Modified  \n",
       "660728                                          No          Email Opened  \n",
       "660727                                         Yes          Email Opened  \n",
       "660719                                          No              Modified  \n",
       "660681                                          No              Modified  \n",
       "\n",
       "[5 rows x 35 columns]"
      ]
     },
     "execution_count": 7,
     "metadata": {},
     "output_type": "execute_result"
    }
   ],
   "source": [
    "df.head()"
   ]
  },
  {
   "cell_type": "code",
   "execution_count": 8,
   "id": "df4eb12a-9bf0-4b1c-b7d8-d4024afc08cf",
   "metadata": {},
   "outputs": [
    {
     "name": "stdout",
     "output_type": "stream",
     "text": [
      "<class 'pandas.core.frame.DataFrame'>\n",
      "Index: 9240 entries, 660737 to 579533\n",
      "Data columns (total 35 columns):\n",
      " #   Column                                         Non-Null Count  Dtype  \n",
      "---  ------                                         --------------  -----  \n",
      " 0   Lead Origin                                    9240 non-null   object \n",
      " 1   Lead Source                                    9204 non-null   object \n",
      " 2   Do Not Email                                   9240 non-null   object \n",
      " 3   Do Not Call                                    9240 non-null   object \n",
      " 4   Converted                                      9240 non-null   int64  \n",
      " 5   TotalVisits                                    9103 non-null   float64\n",
      " 6   Total Time Spent on Website                    9240 non-null   int64  \n",
      " 7   Page Views Per Visit                           9103 non-null   float64\n",
      " 8   Last Activity                                  9137 non-null   object \n",
      " 9   Country                                        6779 non-null   object \n",
      " 10  Specialization                                 7802 non-null   object \n",
      " 11  How did you hear about X Education             7033 non-null   object \n",
      " 12  What is your current occupation                6550 non-null   object \n",
      " 13  What matters most to you in choosing a course  6531 non-null   object \n",
      " 14  Search                                         9240 non-null   object \n",
      " 15  Magazine                                       9240 non-null   object \n",
      " 16  Newspaper Article                              9240 non-null   object \n",
      " 17  X Education Forums                             9240 non-null   object \n",
      " 18  Newspaper                                      9240 non-null   object \n",
      " 19  Digital Advertisement                          9240 non-null   object \n",
      " 20  Through Recommendations                        9240 non-null   object \n",
      " 21  Receive More Updates About Our Courses         9240 non-null   object \n",
      " 22  Tags                                           5887 non-null   object \n",
      " 23  Lead Quality                                   4473 non-null   object \n",
      " 24  Update me on Supply Chain Content              9240 non-null   object \n",
      " 25  Get updates on DM Content                      9240 non-null   object \n",
      " 26  Lead Profile                                   6531 non-null   object \n",
      " 27  City                                           7820 non-null   object \n",
      " 28  Asymmetrique Activity Index                    5022 non-null   object \n",
      " 29  Asymmetrique Profile Index                     5022 non-null   object \n",
      " 30  Asymmetrique Activity Score                    5022 non-null   float64\n",
      " 31  Asymmetrique Profile Score                     5022 non-null   float64\n",
      " 32  I agree to pay the amount through cheque       9240 non-null   object \n",
      " 33  A free copy of Mastering The Interview         9240 non-null   object \n",
      " 34  Last Notable Activity                          9240 non-null   object \n",
      "dtypes: float64(4), int64(2), object(29)\n",
      "memory usage: 2.5+ MB\n"
     ]
    }
   ],
   "source": [
    "# Examinemos los datos para ver su tipo y si hay faltantes\n",
    "# Notamos que hay 9240 registros, pero de las 35 variables, 17 tienen variables null\n",
    "\n",
    "df.info()"
   ]
  },
  {
   "cell_type": "code",
   "execution_count": 9,
   "id": "301c0f29-db6c-418a-8770-8991a203639b",
   "metadata": {},
   "outputs": [],
   "source": [
    "# Como parte de nuestra preparación de los datos, iremos revisando una a una las variables para corregir su tipo de datos\n",
    "# y hacer las respectivas imputaciones de datos faltantes"
   ]
  },
  {
   "cell_type": "code",
   "execution_count": 10,
   "id": "e6bb6362-e539-4bd5-b0c8-52d17f9ddf93",
   "metadata": {},
   "outputs": [],
   "source": [
    "# Lead Source\n",
    "# Hagamos un gráfico de barras para contar las fuentes del tráfico"
   ]
  },
  {
   "cell_type": "code",
   "execution_count": 11,
   "id": "83aed356-45b8-4dcf-95c7-c4a505868863",
   "metadata": {},
   "outputs": [
    {
     "data": {
      "text/plain": [
       "<Axes: xlabel='count', ylabel='Lead Source'>"
      ]
     },
     "execution_count": 11,
     "metadata": {},
     "output_type": "execute_result"
    },
    {
     "data": {
      "image/png": "[encoded data removed]",
      "text/plain": [
       "<Figure size 640x480 with 1 Axes>"
      ]
     },
     "metadata": {},
     "output_type": "display_data"
    }
   ],
   "source": [
    "sns.countplot(y='Lead Source', data = df, order = df['Lead Source'].value_counts().index)"
   ]
  },
  {
   "cell_type": "code",
   "execution_count": 12,
   "id": "3fef10d3-2f89-4e57-83f5-bf6f6133e352",
   "metadata": {},
   "outputs": [],
   "source": [
    "#Si en el análisis exploratorio de datos se hubieramos identificado una fuente de tráfico (Lead Source) que fuera claramente la más común,\n",
    "#la estrategia más directa habría sido reemplazar los valores faltantes con la fuente de tráfico más frecuente, es decir, la moda.\n",
    "#Esto se basa en la suposición de que es más probable que un nuevo lead provenga de la fuente más común.Como no es el caso, simplemente\n",
    "#asignaremos el valor \"Desconocido\" a los valores faltantes."
   ]
  },
  {
   "cell_type": "code",
   "execution_count": 13,
   "id": "a44397c1-1238-48e9-921a-edd4826fa57e",
   "metadata": {},
   "outputs": [],
   "source": [
    "df['Lead Source'] =df['Lead Source'].fillna('Desconocido')"
   ]
  },
  {
   "cell_type": "code",
   "execution_count": 14,
   "id": "cdb0026d-dcce-47d7-9f00-1e87499cd22f",
   "metadata": {},
   "outputs": [],
   "source": [
    "#Corrección de Tipo de Datos: Do Not Email, Do Not Call, Converted\n",
    "\n",
    "#Do Not Email: Una variable indicadora seleccionada por el cliente donde eligen si desean o no recibir correos electrónicos sobre el curso.\n",
    "\n",
    "#Do Not Call: Una variable indicadora seleccionada por el cliente donde eligen si desean o no ser llamados sobre el curso.\n",
    "\n",
    "#Converted: La variable objetivo. Indica si un lead ha sido convertido exitosamente o no."
   ]
  },
  {
   "cell_type": "code",
   "execution_count": 15,
   "id": "1aae2c61-025f-4e1f-84f9-60ccd496e3cd",
   "metadata": {},
   "outputs": [],
   "source": [
    "# Convirtamos las variables a booleanos. Como haremos lo mismo con las tres, hagamos un lazo for"
   ]
  },
  {
   "cell_type": "code",
   "execution_count": 16,
   "id": "fd1ca0b9-5e7e-4c61-ad63-d9f3fb39a7b0",
   "metadata": {},
   "outputs": [],
   "source": [
    "for v in ['Do Not Email', 'Do Not Call', 'Converted']:\n",
    "    df[v] = df[v].replace('Yes', 1)\n",
    "    df[v] = df[v].replace('No', 0)\n",
    "    df[v] = df[v].astype(bool)"
   ]
  },
  {
   "cell_type": "code",
   "execution_count": 17,
   "id": "098a2588-1bea-4925-b1e2-08d4e28e0681",
   "metadata": {},
   "outputs": [],
   "source": [
    "#Manejo de Valores Nulos: TotalVisits y Page Views Per Visit\n",
    "\n",
    "#TotalVisits: El número total de visitas realizadas por el cliente en el sitio web.\n",
    "\n",
    "#Page Views Per Visit: El número total de páginas vistas por el cliente durante sus visitas en el sitio web.\n",
    "\n",
    "#Evaluamos la distribución de cada una de estas características para determinar el mejor método de imputación."
   ]
  },
  {
   "cell_type": "code",
   "execution_count": 18,
   "id": "a39fadcb-458d-4e61-afa4-dbd1aa5fbd49",
   "metadata": {},
   "outputs": [
    {
     "data": {
      "text/plain": [
       "count    9103.000000\n",
       "mean        3.445238\n",
       "std         4.854853\n",
       "min         0.000000\n",
       "25%         1.000000\n",
       "50%         3.000000\n",
       "75%         5.000000\n",
       "max       251.000000\n",
       "Name: TotalVisits, dtype: float64"
      ]
     },
     "execution_count": 18,
     "metadata": {},
     "output_type": "execute_result"
    }
   ],
   "source": [
    "# Examinemos la distribución de Total Visits\n",
    "\n",
    "df['TotalVisits'].describe()"
   ]
  },
  {
   "cell_type": "code",
   "execution_count": 19,
   "id": "50bd7622-3ec0-4897-ad1a-1ee770166bef",
   "metadata": {},
   "outputs": [
    {
     "name": "stderr",
     "output_type": "stream",
     "text": [
      "C:\\Users\\ALLAN\\anaconda3\\Lib\\site-packages\\seaborn\\_oldcore.py:1119: FutureWarning: use_inf_as_na option is deprecated and will be removed in a future version. Convert inf values to NaN before operating instead.\n",
      "  with pd.option_context('mode.use_inf_as_na', True):\n"
     ]
    },
    {
     "data": {
      "text/plain": [
       "<Axes: xlabel='TotalVisits', ylabel='Count'>"
      ]
     },
     "execution_count": 19,
     "metadata": {},
     "output_type": "execute_result"
    },
    {
     "data": {
      "image/png": "[encoded data removed]",
      "text/plain": [
       "<Figure size 640x480 with 1 Axes>"
      ]
     },
     "metadata": {},
     "output_type": "display_data"
    }
   ],
   "source": [
    "# Hagamos un histograma de la distribución# Hagamos un histograma de la distribución\n",
    "\n",
    "sns.histplot(x='TotalVisits', data=df, bins=50)"
   ]
  },
  {
   "cell_type": "code",
   "execution_count": 20,
   "id": "6435ce02-bf92-4a71-b7d1-cb7fbf5ed5a9",
   "metadata": {},
   "outputs": [
    {
     "data": {
      "text/plain": [
       "count    9103.000000\n",
       "mean        2.362820\n",
       "std         2.161418\n",
       "min         0.000000\n",
       "25%         1.000000\n",
       "50%         2.000000\n",
       "75%         3.000000\n",
       "max        55.000000\n",
       "Name: Page Views Per Visit, dtype: float64"
      ]
     },
     "execution_count": 20,
     "metadata": {},
     "output_type": "execute_result"
    }
   ],
   "source": [
    "# Examinemos la distribución de 'Page Views Per Visit'\n",
    "\n",
    "df['Page Views Per Visit'].describe()"
   ]
  },
  {
   "cell_type": "code",
   "execution_count": 21,
   "id": "d0a8b911-5f59-4036-891a-0260fe378afd",
   "metadata": {},
   "outputs": [
    {
     "name": "stderr",
     "output_type": "stream",
     "text": [
      "C:\\Users\\ALLAN\\anaconda3\\Lib\\site-packages\\seaborn\\_oldcore.py:1119: FutureWarning: use_inf_as_na option is deprecated and will be removed in a future version. Convert inf values to NaN before operating instead.\n",
      "  with pd.option_context('mode.use_inf_as_na', True):\n"
     ]
    },
    {
     "data": {
      "text/plain": [
       "<Axes: xlabel='Page Views Per Visit', ylabel='Count'>"
      ]
     },
     "execution_count": 21,
     "metadata": {},
     "output_type": "execute_result"
    },
    {
     "data": {
      "image/png": "[encoded data removed]",
      "text/plain": [
       "<Figure size 640x480 with 1 Axes>"
      ]
     },
     "metadata": {},
     "output_type": "display_data"
    }
   ],
   "source": [
    "# Hagamos un histograma de la distribución\n",
    "\n",
    "sns.histplot(x='Page Views Per Visit', data=df, bins=50)"
   ]
  },
  {
   "cell_type": "code",
   "execution_count": 22,
   "id": "a702428a-7c4a-44a8-98d6-b69a5f588acb",
   "metadata": {},
   "outputs": [],
   "source": [
    "#\"Teoría:\" Cuando una distribución está severamente sesgada, el uso de la mediana para imputar valores faltantes es apropiado porque \n",
    "#la mediana es menos susceptible a la influencia de valores atípicos o extremos, proporcionando una mejor estimación central para datos sesgados.\n",
    "\n",
    "#Si la distribución de estas características no estuviera sesgada y, en cambio, fuera normal (simétrica), podríamos considerar usar \n",
    "#la media para la imputación de valores faltantes. La media es una medida buena y representativa de tendencia central para distribuciones \n",
    "#que no están sesgadas, ya que en una distribución normal, la media y la mediana son prácticamente iguales."
   ]
  },
  {
   "cell_type": "code",
   "execution_count": 23,
   "id": "b8ffa01d-06f0-48a0-bfcb-c4c815933b53",
   "metadata": {},
   "outputs": [],
   "source": [
    "# Imputamos la mediana para los valores faltantes de TotalVisits\n",
    "\n",
    "df['TotalVisits'] = df['TotalVisits'].fillna(df['TotalVisits'].median())"
   ]
  },
  {
   "cell_type": "code",
   "execution_count": 24,
   "id": "553e0885-20ac-470c-aeb1-11c49cb27d26",
   "metadata": {},
   "outputs": [],
   "source": [
    "# Imputamos la mediana para los valores faltantes de 'Page Views Per Visit'\n",
    "\n",
    "df['Page Views Per Visit'] = df['Page Views Per Visit'].fillna(df['Page Views Per Visit'].median())"
   ]
  },
  {
   "cell_type": "code",
   "execution_count": 25,
   "id": "397031f5-ac93-4f4a-bb99-6e8217f90652",
   "metadata": {},
   "outputs": [
    {
     "name": "stdout",
     "output_type": "stream",
     "text": [
      "<class 'pandas.core.frame.DataFrame'>\n",
      "Index: 9240 entries, 660737 to 579533\n",
      "Data columns (total 35 columns):\n",
      " #   Column                                         Non-Null Count  Dtype  \n",
      "---  ------                                         --------------  -----  \n",
      " 0   Lead Origin                                    9240 non-null   object \n",
      " 1   Lead Source                                    9240 non-null   object \n",
      " 2   Do Not Email                                   9240 non-null   bool   \n",
      " 3   Do Not Call                                    9240 non-null   bool   \n",
      " 4   Converted                                      9240 non-null   bool   \n",
      " 5   TotalVisits                                    9240 non-null   float64\n",
      " 6   Total Time Spent on Website                    9240 non-null   int64  \n",
      " 7   Page Views Per Visit                           9240 non-null   float64\n",
      " 8   Last Activity                                  9137 non-null   object \n",
      " 9   Country                                        6779 non-null   object \n",
      " 10  Specialization                                 7802 non-null   object \n",
      " 11  How did you hear about X Education             7033 non-null   object \n",
      " 12  What is your current occupation                6550 non-null   object \n",
      " 13  What matters most to you in choosing a course  6531 non-null   object \n",
      " 14  Search                                         9240 non-null   object \n",
      " 15  Magazine                                       9240 non-null   object \n",
      " 16  Newspaper Article                              9240 non-null   object \n",
      " 17  X Education Forums                             9240 non-null   object \n",
      " 18  Newspaper                                      9240 non-null   object \n",
      " 19  Digital Advertisement                          9240 non-null   object \n",
      " 20  Through Recommendations                        9240 non-null   object \n",
      " 21  Receive More Updates About Our Courses         9240 non-null   object \n",
      " 22  Tags                                           5887 non-null   object \n",
      " 23  Lead Quality                                   4473 non-null   object \n",
      " 24  Update me on Supply Chain Content              9240 non-null   object \n",
      " 25  Get updates on DM Content                      9240 non-null   object \n",
      " 26  Lead Profile                                   6531 non-null   object \n",
      " 27  City                                           7820 non-null   object \n",
      " 28  Asymmetrique Activity Index                    5022 non-null   object \n",
      " 29  Asymmetrique Profile Index                     5022 non-null   object \n",
      " 30  Asymmetrique Activity Score                    5022 non-null   float64\n",
      " 31  Asymmetrique Profile Score                     5022 non-null   float64\n",
      " 32  I agree to pay the amount through cheque       9240 non-null   object \n",
      " 33  A free copy of Mastering The Interview         9240 non-null   object \n",
      " 34  Last Notable Activity                          9240 non-null   object \n",
      "dtypes: bool(3), float64(4), int64(1), object(27)\n",
      "memory usage: 2.4+ MB\n"
     ]
    }
   ],
   "source": [
    "df.info()"
   ]
  },
  {
   "cell_type": "code",
   "execution_count": null,
   "id": "9854449b-ddee-45b2-8e92-f96e0605236d",
   "metadata": {},
   "outputs": [],
   "source": []
  }
 ],
 "metadata": {
  "kernelspec": {
   "display_name": "Python 3 (ipykernel)",
   "language": "python",
   "name": "python3"
  },
  "language_info": {
   "codemirror_mode": {
    "name": "ipython",
    "version": 3
   },
   "file_extension": ".py",
   "mimetype": "text/x-python",
   "name": "python",
   "nbconvert_exporter": "python",
   "pygments_lexer": "ipython3",
   "version": "3.11.7"
  }
 },
 "nbformat": 4,
 "nbformat_minor": 5
}
